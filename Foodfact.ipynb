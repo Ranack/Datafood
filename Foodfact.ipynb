{
 "cells": [
  {
   "cell_type": "markdown",
   "id": "c00f91e2-78f3-455a-9aac-610bf412cde6",
   "metadata": {
    "jp-MarkdownHeadingCollapsed": true
   },
   "source": [
    "# Imports"
   ]
  },
  {
   "cell_type": "markdown",
   "id": "49502f31-6609-410a-863d-ec0196257ce2",
   "metadata": {},
   "source": [
    "## Import Lib"
   ]
  },
  {
   "cell_type": "code",
   "execution_count": null,
   "id": "b959af2d-788c-4906-b94b-9c71ade8eb1a",
   "metadata": {},
   "outputs": [],
   "source": [
    "import pandas as pd\n",
    "import seaborn as sns\n",
    "import matplotlib.pyplot as plt\n",
    "import numpy as np\n",
    "from sklearn.experimental import enable_iterative_imputer\n",
    "from sklearn.impute import IterativeImputer\n",
    "import re\n",
    "import time"
   ]
  },
  {
   "cell_type": "code",
   "execution_count": null,
   "id": "fec799d4-1099-44e5-8c4c-8971070f92f8",
   "metadata": {},
   "outputs": [],
   "source": [
    "start_time = time.time()"
   ]
  },
  {
   "cell_type": "markdown",
   "id": "18f4f0b5-562a-437a-b421-4bf7db61bb31",
   "metadata": {
    "jp-MarkdownHeadingCollapsed": true
   },
   "source": [
    "## Import Csv"
   ]
  },
  {
   "cell_type": "code",
   "execution_count": null,
   "id": "77a93fb5-34a0-4313-b2f0-8cdbb1ac8daf",
   "metadata": {},
   "outputs": [],
   "source": [
    "chunksize = 10 ** 3  # Chunksize de 1000 lignes\n",
    "filename = 'products.csv'\n",
    "nan_rates = []\n",
    "\n",
    "try:\n",
    "    # Lecture du fichier CSV par chunks\n",
    "    reader = pd.read_csv(filename, chunksize=chunksize, sep='\\t')\n",
    "\n",
    "    for chunk in reader:\n",
    "        # Calculer le taux de NaN pour chaque chunk\n",
    "        nan_rates.append(chunk.isna().mean(axis=0))\n",
    "\n",
    "except pd.errors.ParserError as e:\n",
    "    print(f\"ParserError: {e}\")\n",
    "\n",
    "# Calcul des taux moyens de remplissage des chunks\n",
    "if nan_rates:\n",
    "    inds_nan_rate = pd.concat(nan_rates, axis=1).mean(axis=1)\n",
    "\n",
    "    # Sélection des colonnes à charger en fonction des taux de NaN\n",
    "    cols_to_load = inds_nan_rate[inds_nan_rate < 0.7].index.tolist()\n",
    "\n",
    "    # Chargement des données filtrées\n",
    "    df = pd.read_csv(filename, sep='\\t', usecols=cols_to_load)\n",
    "    df = df.drop(['url','creator','created_datetime','food_groups_tags','food_groups_en','states_tags','sodium_100g','states_en','last_image_datetime','last_modified_t','last_modified_datetime','created_t','last_modified_by','main_category_en','image_url','image_small_url','last_updated_t','last_image_t','brands_tags','last_updated_datetime','categories_en','categories_tags','countries_tags','countries_en'], axis=1)\n",
    "\n",
    "    # Affichage de la première partie du dataframe pour vérifier\n",
    "    print(df.head())"
   ]
  },
  {
   "cell_type": "markdown",
   "id": "8b940329-22b0-4e90-848b-4924e361e76e",
   "metadata": {
    "jp-MarkdownHeadingCollapsed": true
   },
   "source": [
    "# Information de base"
   ]
  },
  {
   "cell_type": "code",
   "execution_count": null,
   "id": "99e2c036-b619-4214-92b1-ac5e779690b9",
   "metadata": {},
   "outputs": [],
   "source": [
    "df.info"
   ]
  },
  {
   "cell_type": "code",
   "execution_count": null,
   "id": "91387410-2647-4382-9941-1321b1cf9f8d",
   "metadata": {},
   "outputs": [],
   "source": [
    "df.head(5)"
   ]
  },
  {
   "cell_type": "code",
   "execution_count": null,
   "id": "e13ae37a-84aa-4f19-8efe-f7cc7913016d",
   "metadata": {},
   "outputs": [],
   "source": [
    "df.dtypes"
   ]
  },
  {
   "cell_type": "markdown",
   "id": "bcfc9fd4-802c-4ba1-ae80-a3b4a9f399c6",
   "metadata": {
    "jp-MarkdownHeadingCollapsed": true
   },
   "source": [
    "# Nettoyage Données"
   ]
  },
  {
   "cell_type": "markdown",
   "id": "69d8d804-6c22-4174-8f47-fd9235810751",
   "metadata": {
    "jp-MarkdownHeadingCollapsed": true
   },
   "source": [
    "## Suppression cyrillique"
   ]
  },
  {
   "cell_type": "code",
   "execution_count": null,
   "id": "304bdd7c-61e4-48cf-95ce-0465cc82761a",
   "metadata": {},
   "outputs": [],
   "source": [
    "def detect_cyrillic(df, column):\n",
    "    cyrillic_indices = []\n",
    "    cyrillic_pattern = re.compile(r'[\\u0400-\\u04FF]+')  # Unicode Cyrillic characters\n",
    "\n",
    "    for index, value in df[column].items():\n",
    "        if isinstance(value, str) and cyrillic_pattern.search(value):\n",
    "            cyrillic_indices.append(index)\n",
    "\n",
    "    return cyrillic_indices\n",
    "\n",
    "cyrillic_indices = detect_cyrillic(df, 'product_name')\n",
    "df = df.drop(index=cyrillic_indices).reset_index(drop=True)\n",
    "num_rows_removed = len(cyrillic_indices)\n",
    "print(f\"\\nNombre de lignes supprimées : {num_rows_removed}\")\n",
    "\n",
    "print(\"\\nDataFrame après suppression des lignes avec des caractères cyrilliques :\")\n",
    "print(df)"
   ]
  },
  {
   "cell_type": "markdown",
   "id": "38e2e440-fd54-43dc-b6e9-8064d4f0bae4",
   "metadata": {
    "jp-MarkdownHeadingCollapsed": true
   },
   "source": [
    "## Doublons"
   ]
  },
  {
   "cell_type": "code",
   "execution_count": null,
   "id": "efa8d5d5-54e9-4201-be45-8675b07f43cc",
   "metadata": {},
   "outputs": [],
   "source": [
    "for column in df.columns:\n",
    "    doublons = df[column].duplicated().sum()\n",
    "    print(f\"Column: {column}\")\n",
    "    print(doublons)"
   ]
  },
  {
   "cell_type": "markdown",
   "id": "37d8ce54-7de5-4a74-b666-040a25f238da",
   "metadata": {
    "jp-MarkdownHeadingCollapsed": true
   },
   "source": [
    "### Suppression et verification des doublons dans 'code'"
   ]
  },
  {
   "cell_type": "code",
   "execution_count": null,
   "id": "c22ecd32-ee04-4dab-8593-0ff8e4d96d54",
   "metadata": {},
   "outputs": [],
   "source": [
    "df = df.drop_duplicates(subset='code')\n",
    "for column in df.columns:\n",
    "    doublons = df[column].duplicated().sum()\n",
    "    print(f\"Column: {column}\")\n",
    "    print(doublons)"
   ]
  },
  {
   "cell_type": "code",
   "execution_count": null,
   "id": "7c8ed37b-b8ea-49bc-a697-67c89517fb1a",
   "metadata": {},
   "outputs": [],
   "source": [
    "df.isna().any()"
   ]
  },
  {
   "cell_type": "code",
   "execution_count": null,
   "id": "256e6b12-5361-47a8-b9df-08b73ae14179",
   "metadata": {},
   "outputs": [],
   "source": [
    "df.isna().mean()"
   ]
  },
  {
   "cell_type": "code",
   "execution_count": null,
   "id": "d043957b-299b-48e2-b632-fb3a7fd2280f",
   "metadata": {
    "scrolled": true
   },
   "outputs": [],
   "source": [
    "valeurs_manq = df.isna().mean().sort_values(ascending=False)\n",
    "sns.barplot(x=valeurs_manq.values, y=valeurs_manq.index);"
   ]
  },
  {
   "cell_type": "markdown",
   "id": "08f18f0f-13c7-46be-a43a-06e155d6adad",
   "metadata": {
    "jp-MarkdownHeadingCollapsed": true
   },
   "source": [
    "## Detection, modification et suppression des valeurs supérieures a 100 pour 100gr"
   ]
  },
  {
   "cell_type": "code",
   "execution_count": null,
   "id": "5844cab4-fd55-404e-aeea-48392845545c",
   "metadata": {},
   "outputs": [],
   "source": [
    "def count_responses(results_df):\n",
    "    return results_df.shape[0]\n",
    "\n",
    "initial_size = df.shape[0]\n",
    "\n",
    "columns_to_check = [\n",
    "    'fat_100g', 'saturated-fat_100g', 'carbohydrates_100g',\n",
    "    'sugars_100g', 'fiber_100g', 'proteins_100g', 'salt_100g','fruits-vegetables-nuts-estimate-from-ingredients_100g'\n",
    "]\n",
    "\n",
    "results = []\n",
    "\n",
    "for column in columns_to_check:\n",
    "    # Convertir les valeurs de la colonne en float (si possible)\n",
    "    df.loc[:, column] = pd.to_numeric(df[column], errors='coerce')\n",
    "    values_above_100 = df[df[column] > 100][column]\n",
    "    for idx, value in values_above_100.items():\n",
    "        results.append((df.loc[idx, 'product_name'], column, value))\n",
    "\n",
    "results_df = pd.DataFrame(results, columns=['product_name', 'Column', 'Value'])\n",
    "\n",
    "print(\"Produits avec des valeurs supérieures à 100 :\")\n",
    "print(results_df)\n",
    "\n",
    "# Compter le total de réponses\n",
    "total_responses = count_responses(results_df)\n",
    "print(f\"Total de réponses trouvées : {total_responses}\")"
   ]
  },
  {
   "cell_type": "markdown",
   "id": "2bbfa7f1-050a-4517-a4f1-8c109388ec4d",
   "metadata": {
    "jp-MarkdownHeadingCollapsed": true
   },
   "source": [
    "### Affichage valeur unique product_name"
   ]
  },
  {
   "cell_type": "code",
   "execution_count": null,
   "id": "9660d2b0-55c7-47dc-a6b3-829dc2e07190",
   "metadata": {},
   "outputs": [],
   "source": [
    "unique_product_counts = df['product_name'].value_counts()\n",
    "print(\"Valeurs uniques dans la colonne 'product_name' et leur nombre :\")\n",
    "print(unique_product_counts)"
   ]
  },
  {
   "cell_type": "markdown",
   "id": "20d83382-487d-447d-8036-78455a3dfd57",
   "metadata": {
    "jp-MarkdownHeadingCollapsed": true
   },
   "source": [
    "## Remplacement des >100 par la moyenne en fonction de product name"
   ]
  },
  {
   "cell_type": "code",
   "execution_count": null,
   "id": "76012a0f-47eb-40c1-a94f-ae699140f39f",
   "metadata": {},
   "outputs": [],
   "source": [
    "columns_to_check = [\n",
    "    'fat_100g', 'saturated-fat_100g', 'carbohydrates_100g',\n",
    "    'sugars_100g', 'fiber_100g', 'proteins_100g', 'salt_100g','fruits-vegetables-nuts-estimate-from-ingredients_100g'\n",
    "]\n",
    "\n",
    "# Convertir les valeurs des colonnes en float\n",
    "df[columns_to_check] = df[columns_to_check].apply(pd.to_numeric, errors='coerce')\n",
    "\n",
    "# Calculer les moyennes des colonnes en fonction de 'product_name'\n",
    "means = df.groupby('product_name')[columns_to_check].transform('mean')\n",
    "\n",
    "# Remplacer les valeurs supérieures à 100 par la moyenne correspondante\n",
    "for column in columns_to_check:\n",
    "    df[column] = np.where(df[column] > 100, means[column], df[column])\n",
    "\n",
    "# Vérifier les valeurs supérieures à 100 après correction\n",
    "values_above_100 = df[columns_to_check] > 100\n",
    "count_above_100 = values_above_100.sum().sum()\n",
    "print(f\"Nombre de valeurs supérieures à 100 après correction : {count_above_100}\")\n",
    "\n",
    "# Supprimer les lignes contenant des valeurs supérieures à 100\n",
    "df.drop(index=df[values_above_100.any(axis=1)].index, inplace=True)\n",
    "print(\"DataFrame après suppression des valeurs supérieures à 100 :\")\n",
    "print(df)"
   ]
  },
  {
   "cell_type": "markdown",
   "id": "74893d34-5b8c-4b56-9c4d-087ebccb17ff",
   "metadata": {
    "jp-MarkdownHeadingCollapsed": true
   },
   "source": [
    "## Iterative imputer dans les valeurs NaN "
   ]
  },
  {
   "cell_type": "code",
   "execution_count": null,
   "id": "68ec1802-dbaf-4ccf-8e3b-1ddeedb739e8",
   "metadata": {},
   "outputs": [],
   "source": [
    "df[columns_to_check] = df[columns_to_check].apply(pd.to_numeric, errors='coerce')\n",
    "\n",
    "modified_count = 0\n",
    "\n",
    "# Utiliser IterativeImputer pour remplacer les NaN\n",
    "imputer = IterativeImputer(random_state=0)\n",
    "df_imputed = imputer.fit_transform(df[columns_to_check])\n",
    "\n",
    "# Compter les valeurs modifiées\n",
    "for col in columns_to_check:\n",
    "    modified_count += df[col].isna().sum() - np.isnan(df_imputed[:, columns_to_check.index(col)]).sum()\n",
    "\n",
    "# Remplacer les valeurs NaN dans le DataFrame d'origine\n",
    "df[columns_to_check] = df_imputed\n",
    "\n",
    "# Afficher le DataFrame final après imputation\n",
    "print(\"DataFrame après imputation itérative :\")\n",
    "print(df)\n",
    "\n",
    "# Afficher le nombre de valeurs modifiées\n",
    "print(f\"Nombre de valeurs modifiées : {modified_count}\")"
   ]
  },
  {
   "cell_type": "code",
   "execution_count": null,
   "id": "38bde4f0-6f4f-46ac-9dea-89620cc6b22b",
   "metadata": {},
   "outputs": [],
   "source": []
  },
  {
   "cell_type": "code",
   "execution_count": null,
   "id": "38eb81d7-84e7-4a32-b8ae-535e4a26b2e6",
   "metadata": {},
   "outputs": [],
   "source": [
    "for column in df.columns:\n",
    "    if column == 'fruits-vegetables-nuts-estimate-from-ingredients_100g': \n",
    "        unique_values = df[column].unique()\n",
    "        print(f\"Colonne '{column}':\")\n",
    "        for value in unique_values:\n",
    "            print(f\"  - {value}\")\n",
    "        print()"
   ]
  },
  {
   "cell_type": "markdown",
   "id": "2c26ef40-de32-4483-beb3-cdbc21a97e4f",
   "metadata": {
    "jp-MarkdownHeadingCollapsed": true
   },
   "source": [
    "## Suppression des NaN dans product_name"
   ]
  },
  {
   "cell_type": "code",
   "execution_count": null,
   "id": "77dc046d-3e3c-4b35-98c3-c524d7e231e2",
   "metadata": {},
   "outputs": [],
   "source": [
    "nombre_lignes_avant = df.shape[0]\n",
    "df.dropna(subset=['product_name'], inplace=True)\n",
    "nombre_lignes_apres = df.shape[0]\n",
    "nombre_lignes_supprimees = nombre_lignes_avant - nombre_lignes_apres\n",
    "print(f\"\\nNombre de lignes supprimées: {nombre_lignes_supprimees}\")"
   ]
  },
  {
   "cell_type": "markdown",
   "id": "ec4859d2-ba94-45da-afae-5c881bdd6dab",
   "metadata": {
    "jp-MarkdownHeadingCollapsed": true
   },
   "source": [
    "### Pourcentage des 0 et NaN restant"
   ]
  },
  {
   "cell_type": "code",
   "execution_count": null,
   "id": "728d37c9-5fdb-4c3a-9e05-2fbb96cd00d0",
   "metadata": {},
   "outputs": [],
   "source": [
    "zero_percentages = (df == 0).sum() / df.shape[0] * 100\n",
    "nan_percentages = df.isna().sum() / df.shape[0] * 100\n",
    "print(\"Pourcentage des valeurs égales à 0 :\")\n",
    "print(zero_percentages)\n",
    "print(\"\\nPourcentage des NaN :\")\n",
    "print(nan_percentages)"
   ]
  },
  {
   "cell_type": "code",
   "execution_count": null,
   "id": "1854dee7-6000-4933-8d50-69822270b330",
   "metadata": {},
   "outputs": [],
   "source": [
    "df.head(5)"
   ]
  },
  {
   "cell_type": "markdown",
   "id": "7f5ed0a5-2e0a-4d97-a8cd-9a9960f1aca3",
   "metadata": {},
   "source": [
    "## Modifications valeurs negatives"
   ]
  },
  {
   "cell_type": "code",
   "execution_count": null,
   "id": "ea9281cb-72b7-4c49-9e6e-9a47fbe2b918",
   "metadata": {},
   "outputs": [],
   "source": [
    "columns_to_check = [\n",
    "    'fat_100g', 'saturated-fat_100g', 'carbohydrates_100g',\n",
    "    'sugars_100g', 'fiber_100g', 'proteins_100g', 'salt_100g'\n",
    "]\n",
    "\n",
    "# Vérifier, compter et afficher les valeurs négatives\n",
    "negative_values = {}\n",
    "\n",
    "for column in columns_to_check:\n",
    "    negative_rows = df[df[column] < 0]\n",
    "    count_negatives = negative_rows.shape[0]\n",
    "    if count_negatives > 0:\n",
    "        negative_values[column] = count_negatives\n",
    "        print(f\"Colonne '{column}':\")\n",
    "        print(negative_rows[['product_name', column]])\n",
    "        print(f\"Nombre de valeurs négatives dans '{column}': {count_negatives}\")\n",
    "        print()\n",
    "\n",
    "# Convertir les valeurs négatives en valeurs positives dans le DataFrame principal\n",
    "df[columns_to_check] = df[columns_to_check].abs()\n",
    "\n",
    "# Afficher le résumé des valeurs négatives\n",
    "print(\"\\nRésumé des valeurs négatives converties :\")\n",
    "for column, count in negative_values.items():\n",
    "    print(f\"Colonne '{column}': {count} valeurs négatives converties en positives\")"
   ]
  },
  {
   "cell_type": "code",
   "execution_count": null,
   "id": "6b6510c7-340d-41c4-ae44-066b9da3da3c",
   "metadata": {},
   "outputs": [],
   "source": [
    "df.head(5)"
   ]
  },
  {
   "cell_type": "markdown",
   "id": "50f7a44b-62e2-42ed-b895-e1f14d2651e3",
   "metadata": {
    "jp-MarkdownHeadingCollapsed": true
   },
   "source": [
    "# Timer"
   ]
  },
  {
   "cell_type": "code",
   "execution_count": null,
   "id": "bee884f4-56c2-4e19-bae6-87f482014daa",
   "metadata": {},
   "outputs": [],
   "source": [
    "end_time = time.time()\n",
    "execution_time = end_time - start_time\n",
    "\n",
    "print(f\"Temps d'exécution total du notebook : {execution_time:.4f} secondes\")"
   ]
  }
 ],
 "metadata": {
  "kernelspec": {
   "display_name": "Python 3 (ipykernel)",
   "language": "python",
   "name": "python3"
  },
  "language_info": {
   "codemirror_mode": {
    "name": "ipython",
    "version": 3
   },
   "file_extension": ".py",
   "mimetype": "text/x-python",
   "name": "python",
   "nbconvert_exporter": "python",
   "pygments_lexer": "ipython3",
   "version": "3.11.7"
  }
 },
 "nbformat": 4,
 "nbformat_minor": 5
}
